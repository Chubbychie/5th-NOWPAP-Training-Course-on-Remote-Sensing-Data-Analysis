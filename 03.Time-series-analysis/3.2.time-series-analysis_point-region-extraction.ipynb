{
 "cells": [
  {
   "cell_type": "markdown",
   "id": "5e8631b7",
   "metadata": {
    "slideshow": {
     "slide_type": "slide"
    }
   },
   "source": [
    "\n",
    "<img src=\"../images/5thNRST_logo.png\" alt=\"NOWPAP\" width=\"900\" height=\"700\">\n",
    "\n",
    "## NOWPAP REMOTE SENSING TRAINING COURSE   \n",
    "#### Webinar 2: Monitoring and Assessment of Water Quality by Ocean Color Remote Sensing\n",
    "<span style=\"color:brown; font-size:1.1em;font-style:italic\"> Time series analysis: Extract point/region of interest from a series of images</span>\n",
    "\n",
    "<hr style=\"border:2px solid rgb(30,70,125)\"> </hr>\n",
    "\n",
    "<span style=\"font-family:Helvieta; font-size:2em;\">Eligio Maure (maure@npec.or.jp)</span>"
   ]
  },
  {
   "cell_type": "markdown",
   "id": "6213e392",
   "metadata": {
    "slideshow": {
     "slide_type": "subslide"
    }
   },
   "source": [
    "***\n",
    "**Note 1**: Execute each cell through the <button class=\"btn btn-default btn-xs\"><i class=\"icon-play fa fa-play\"></i></button> button from the top MENU (or keyboard shortcut `Shift` + `Enter`).<br>\n",
    "<br>\n",
    "**Note 2**: If, for any reason, the kernel is not working anymore, in the top MENU, click on the <button class=\"btn btn-default btn-xs\"><i class=\"fa fa-repeat icon-repeat\"></i></button> button. Then, in the top MENU, click on \"Cell\" and select \"Run All Above Selected Cell\".<br>\n",
    "***"
   ]
  },
  {
   "cell_type": "markdown",
   "id": "357bedc8",
   "metadata": {
    "slideshow": {
     "slide_type": "slide"
    }
   },
   "source": [
    "# Table of contents\n",
    "- [1. Purpose](#1.-Purpose)\n",
    "- [2. Library import](#2.-Library-import)\n",
    "- [3. Define parameters](#3.-Define-parameters)\n",
    "- [4. Point extract](#4.-Point-extract)\n",
    "- [5. Region extract](#5.-Region-extract)\n",
    "- [6. Resources](#6.-Resources)\n",
    "***"
   ]
  },
  {
   "cell_type": "markdown",
   "id": "855dd9f5",
   "metadata": {
    "slideshow": {
     "slide_type": "slide"
    }
   },
   "source": [
    "# 1. Purpose\n",
    "[Return to the \"Table of contents\"](#Table-of-contents)\n",
    "\n",
    "The objective of this exercise is to learn how to extract the mean of a point or region from a series of satellite images.  \n",
    "The images used are obtained from the [Marine Environmental Watch](https://ocean.nowpap3.go.jp/?page_id=862) of Northwest Pacific Action Plan (NOWPAP).\n",
    "\n",
    "***"
   ]
  },
  {
   "cell_type": "markdown",
   "id": "faa21d18",
   "metadata": {
    "slideshow": {
     "slide_type": "slide"
    }
   },
   "source": [
    "# 2. Library import\n",
    "[Return to the \"Table of contents\"](#Table-of-contents)"
   ]
  },
  {
   "cell_type": "code",
   "execution_count": 1,
   "id": "89f10c9d",
   "metadata": {},
   "outputs": [],
   "source": [
    "# Data manipulation\n",
    "import pandas as pd\n",
    "import numpy as np\n",
    "\n",
    "# System\n",
    "import sys\n",
    "from pathlib import Path\n",
    "\n",
    "# Visualization\n",
    "import matplotlib.pyplot as plt\n",
    "\n",
    "%matplotlib inline"
   ]
  },
  {
   "cell_type": "code",
   "execution_count": 2,
   "id": "9dcafdf4",
   "metadata": {},
   "outputs": [],
   "source": [
    "sys.path.append(str(Path('.').absolute().parent)) \n",
    "import sutils as util\n",
    "util.mpl_custom(mpl=plt)"
   ]
  },
  {
   "cell_type": "markdown",
   "id": "1f2625ed",
   "metadata": {
    "slideshow": {
     "slide_type": "slide"
    }
   },
   "source": [
    "# 3. Define parameters\n",
    "[Return to the \"Table of contents\"](#Table-of-contents)"
   ]
  },
  {
   "cell_type": "code",
   "execution_count": 3,
   "id": "4c9ecb1d",
   "metadata": {},
   "outputs": [],
   "source": [
    "VAR = 'chlor_a'    # variable name \n",
    "\n",
    "INTPUT_DIR = Path('.').absolute().joinpath(r'data\\SGLI\\month')\n",
    "OUTPUT_DIR = Path('.').absolute().joinpath(r'data\\SGLI\\month')\n",
    "\n",
    "INPUT_FILES = list(INTPUT_DIR.glob('GS2020*.nc'))"
   ]
  },
  {
   "cell_type": "markdown",
   "id": "5464191d",
   "metadata": {
    "slideshow": {
     "slide_type": "slide"
    }
   },
   "source": [
    "# 4. Point extract\n",
    "[Return to the \"Table of contents\"](#Table-of-contents)\n",
    "- Get annual time series from a point "
   ]
  },
  {
   "cell_type": "code",
   "execution_count": 8,
   "id": "014ea085",
   "metadata": {},
   "outputs": [
    {
     "name": "stdout",
     "output_type": "stream",
     "text": [
      "Wall time: 5.28 s\n"
     ]
    }
   ],
   "source": [
    "%%time\n",
    "point = {'lon': [137.253], 'lat': [36.793]} # geolocation\n",
    "window = 5 # pixel around the centre point, extract window\n",
    "save_to = OUTPUT_DIR.joinpath('point_timeseries.txt')\n",
    "\n",
    "util.pyextract(bbox=point, window=window, filename=save_to, file_list=INPUT_FILES)"
   ]
  },
  {
   "cell_type": "code",
   "execution_count": 9,
   "id": "dd62dc40",
   "metadata": {
    "slideshow": {
     "slide_type": "slide"
    }
   },
   "outputs": [
    {
     "data": {
      "text/html": [
       "<div>\n",
       "<style scoped>\n",
       "    .dataframe tbody tr th:only-of-type {\n",
       "        vertical-align: middle;\n",
       "    }\n",
       "\n",
       "    .dataframe tbody tr th {\n",
       "        vertical-align: top;\n",
       "    }\n",
       "\n",
       "    .dataframe thead th {\n",
       "        text-align: right;\n",
       "    }\n",
       "</style>\n",
       "<table border=\"1\" class=\"dataframe\">\n",
       "  <thead>\n",
       "    <tr style=\"text-align: right;\">\n",
       "      <th></th>\n",
       "      <th>filename</th>\n",
       "      <th>time_start</th>\n",
       "      <th>time_end</th>\n",
       "      <th>pixel_count</th>\n",
       "      <th>valid</th>\n",
       "      <th>invalid</th>\n",
       "      <th>min</th>\n",
       "      <th>max</th>\n",
       "      <th>mean</th>\n",
       "      <th>median</th>\n",
       "      <th>std</th>\n",
       "      <th>pixel_value</th>\n",
       "    </tr>\n",
       "  </thead>\n",
       "  <tbody>\n",
       "    <tr>\n",
       "      <th>0</th>\n",
       "      <td>Y19982020_CHL_NW_month_MaxDay.nc</td>\n",
       "      <td>2020-02-15T00:00:00Z</td>\n",
       "      <td>2020-12-16T00:00:00Z</td>\n",
       "      <td>1</td>\n",
       "      <td>1</td>\n",
       "      <td>0</td>\n",
       "      <td>9.015711</td>\n",
       "      <td>9.015711</td>\n",
       "      <td>9.015711</td>\n",
       "      <td>9.015711</td>\n",
       "      <td>1.0</td>\n",
       "      <td>197.0</td>\n",
       "    </tr>\n",
       "    <tr>\n",
       "      <th>1</th>\n",
       "      <td>Y19982020_CHL_NW_month_MaxDay.nc</td>\n",
       "      <td>2020-02-15T00:00:00Z</td>\n",
       "      <td>2020-12-16T00:00:00Z</td>\n",
       "      <td>1</td>\n",
       "      <td>1</td>\n",
       "      <td>0</td>\n",
       "      <td>216.271852</td>\n",
       "      <td>216.271852</td>\n",
       "      <td>216.271852</td>\n",
       "      <td>216.271852</td>\n",
       "      <td>1.0</td>\n",
       "      <td>289.0</td>\n",
       "    </tr>\n",
       "    <tr>\n",
       "      <th>2</th>\n",
       "      <td>Y19982020_CHL_NW_month_MaxDay.nc</td>\n",
       "      <td>2020-02-15T00:00:00Z</td>\n",
       "      <td>2020-12-16T00:00:00Z</td>\n",
       "      <td>1</td>\n",
       "      <td>1</td>\n",
       "      <td>0</td>\n",
       "      <td>223.872114</td>\n",
       "      <td>223.872114</td>\n",
       "      <td>223.872114</td>\n",
       "      <td>223.872114</td>\n",
       "      <td>1.0</td>\n",
       "      <td>290.0</td>\n",
       "    </tr>\n",
       "    <tr>\n",
       "      <th>3</th>\n",
       "      <td>Y19982020_CHL_NW_month_MaxDay.nc</td>\n",
       "      <td>2020-02-15T00:00:00Z</td>\n",
       "      <td>2020-12-16T00:00:00Z</td>\n",
       "      <td>1</td>\n",
       "      <td>1</td>\n",
       "      <td>0</td>\n",
       "      <td>74.131024</td>\n",
       "      <td>74.131024</td>\n",
       "      <td>74.131024</td>\n",
       "      <td>74.131024</td>\n",
       "      <td>1.0</td>\n",
       "      <td>258.0</td>\n",
       "    </tr>\n",
       "    <tr>\n",
       "      <th>4</th>\n",
       "      <td>Y19982020_CHL_NW_month_MaxDay.nc</td>\n",
       "      <td>2020-02-15T00:00:00Z</td>\n",
       "      <td>2020-12-16T00:00:00Z</td>\n",
       "      <td>1</td>\n",
       "      <td>1</td>\n",
       "      <td>0</td>\n",
       "      <td>9.015711</td>\n",
       "      <td>9.015711</td>\n",
       "      <td>9.015711</td>\n",
       "      <td>9.015711</td>\n",
       "      <td>1.0</td>\n",
       "      <td>197.0</td>\n",
       "    </tr>\n",
       "  </tbody>\n",
       "</table>\n",
       "</div>"
      ],
      "text/plain": [
       "                           filename            time_start  \\\n",
       "0  Y19982020_CHL_NW_month_MaxDay.nc  2020-02-15T00:00:00Z   \n",
       "1  Y19982020_CHL_NW_month_MaxDay.nc  2020-02-15T00:00:00Z   \n",
       "2  Y19982020_CHL_NW_month_MaxDay.nc  2020-02-15T00:00:00Z   \n",
       "3  Y19982020_CHL_NW_month_MaxDay.nc  2020-02-15T00:00:00Z   \n",
       "4  Y19982020_CHL_NW_month_MaxDay.nc  2020-02-15T00:00:00Z   \n",
       "\n",
       "               time_end  pixel_count  valid  invalid         min         max  \\\n",
       "0  2020-12-16T00:00:00Z            1      1        0    9.015711    9.015711   \n",
       "1  2020-12-16T00:00:00Z            1      1        0  216.271852  216.271852   \n",
       "2  2020-12-16T00:00:00Z            1      1        0  223.872114  223.872114   \n",
       "3  2020-12-16T00:00:00Z            1      1        0   74.131024   74.131024   \n",
       "4  2020-12-16T00:00:00Z            1      1        0    9.015711    9.015711   \n",
       "\n",
       "         mean      median  std  pixel_value  \n",
       "0    9.015711    9.015711  1.0        197.0  \n",
       "1  216.271852  216.271852  1.0        289.0  \n",
       "2  223.872114  223.872114  1.0        290.0  \n",
       "3   74.131024   74.131024  1.0        258.0  \n",
       "4    9.015711    9.015711  1.0        197.0  "
      ]
     },
     "execution_count": 9,
     "metadata": {},
     "output_type": "execute_result"
    }
   ],
   "source": [
    "df = pd.read_csv(save_to)\n",
    "df.head()"
   ]
  },
  {
   "cell_type": "code",
   "execution_count": 6,
   "id": "6c152702",
   "metadata": {
    "slideshow": {
     "slide_type": "slide"
    }
   },
   "outputs": [
    {
     "ename": "IndexError",
     "evalue": "list index out of range",
     "output_type": "error",
     "traceback": [
      "\u001b[1;31m---------------------------------------------------------------------------\u001b[0m",
      "\u001b[1;31mIndexError\u001b[0m                                Traceback (most recent call last)",
      "\u001b[1;32m~\\AppData\\Local\\Temp/ipykernel_36640/2670468123.py\u001b[0m in \u001b[0;36m<module>\u001b[1;34m\u001b[0m\n\u001b[0;32m      3\u001b[0m \u001b[0mdf\u001b[0m\u001b[1;33m[\u001b[0m\u001b[1;34m'date'\u001b[0m\u001b[1;33m]\u001b[0m \u001b[1;33m=\u001b[0m \u001b[0mpd\u001b[0m\u001b[1;33m.\u001b[0m\u001b[0mto_datetime\u001b[0m\u001b[1;33m(\u001b[0m\u001b[0mdf\u001b[0m\u001b[1;33m[\u001b[0m\u001b[1;34m'time_start'\u001b[0m\u001b[1;33m]\u001b[0m\u001b[1;33m)\u001b[0m\u001b[1;33m\u001b[0m\u001b[1;33m\u001b[0m\u001b[0m\n\u001b[0;32m      4\u001b[0m \u001b[0mdf\u001b[0m\u001b[1;33m.\u001b[0m\u001b[0mplot\u001b[0m\u001b[1;33m(\u001b[0m\u001b[0mx\u001b[0m\u001b[1;33m=\u001b[0m\u001b[1;34m'date'\u001b[0m\u001b[1;33m,\u001b[0m \u001b[0my\u001b[0m\u001b[1;33m=\u001b[0m\u001b[1;34m'median'\u001b[0m\u001b[1;33m,\u001b[0m \u001b[0max\u001b[0m\u001b[1;33m=\u001b[0m\u001b[0max\u001b[0m\u001b[1;33m[\u001b[0m\u001b[1;36m0\u001b[0m\u001b[1;33m]\u001b[0m\u001b[1;33m)\u001b[0m\u001b[1;33m\u001b[0m\u001b[1;33m\u001b[0m\u001b[0m\n\u001b[1;32m----> 5\u001b[1;33m \u001b[0mutil\u001b[0m\u001b[1;33m.\u001b[0m\u001b[0madd2map\u001b[0m\u001b[1;33m(\u001b[0m\u001b[0mfile\u001b[0m\u001b[1;33m=\u001b[0m\u001b[0mINPUT_FILES\u001b[0m\u001b[1;33m[\u001b[0m\u001b[1;36m0\u001b[0m\u001b[1;33m]\u001b[0m\u001b[1;33m,\u001b[0m \u001b[0mpoint\u001b[0m\u001b[1;33m=\u001b[0m\u001b[0mpoint\u001b[0m\u001b[1;33m,\u001b[0m \u001b[0max\u001b[0m\u001b[1;33m=\u001b[0m\u001b[0max\u001b[0m\u001b[1;33m[\u001b[0m\u001b[1;36m1\u001b[0m\u001b[1;33m]\u001b[0m\u001b[1;33m)\u001b[0m\u001b[1;33m\u001b[0m\u001b[1;33m\u001b[0m\u001b[0m\n\u001b[0m",
      "\u001b[1;31mIndexError\u001b[0m: list index out of range"
     ]
    },
    {
     "data": {
      "image/png": "[encoded data removed]",
      "text/plain": [
       "<Figure size 1440x576 with 2 Axes>"
      ]
     },
     "metadata": {
      "needs_background": "light"
     },
     "output_type": "display_data"
    }
   ],
   "source": [
    "fig, ax = plt.subplots(1,2, figsize=(20,8))\n",
    "\n",
    "df['date'] = pd.to_datetime(df['time_start'])\n",
    "df.plot(x='date', y='median', ax=ax[0])\n",
    "util.add2map(file=INPUT_FILES[0], point=point, ax=ax[1])"
   ]
  },
  {
   "cell_type": "markdown",
   "id": "6b623497",
   "metadata": {
    "slideshow": {
     "slide_type": "slide"
    }
   },
   "source": [
    "# 5. Region extract\n",
    "[Return to the \"Table of contents\"](#Table-of-contents)\n",
    "- Define a box in Toyama Bay and try to get the time series "
   ]
  },
  {
   "cell_type": "code",
   "execution_count": null,
   "id": "3dba5eae",
   "metadata": {},
   "outputs": [],
   "source": [
    "%%time\n",
    "fig, ax = plt.subplots(1,2, figsize=(20,8))\n",
    "\n",
    "bbox = {'lon': [137.15, 137.35], 'lat': [36.8, 36.95]} # geolocation\n",
    "save_to = OUTPUT_DIR.joinpath('region_timeseries.txt')\n",
    "\n",
    "util.pyextract(bbox=bbox, filename=save_to, file_list=INPUT_FILES)\n",
    "df = pd.read_csv(save_to)\n",
    "df['date'] = pd.to_datetime(df['time_start'])\n",
    "df.plot(x='date', y='median', ax=ax[0])\n",
    "\n",
    "util.add2map(file=INPUT_FILES[0], region=bbox, ax=ax[1])"
   ]
  },
  {
   "cell_type": "markdown",
   "id": "99cfb38a",
   "metadata": {
    "slideshow": {
     "slide_type": "slide"
    }
   },
   "source": [
    "<div class=\"alert alert-block alert-success\"/div>\n",
    "    <b>Done!</b><br>\n",
    "  \n",
    "--- \n",
    "\n",
    "#### And thank you for your attention! :)\n",
    "    We hope you enjoyed the training provided by NOWPAP CEARAC."
   ]
  },
  {
   "cell_type": "markdown",
   "id": "a0588868",
   "metadata": {
    "slideshow": {
     "slide_type": "slide"
    }
   },
   "source": [
    "# 5. Resources\n",
    "[Go back to the \"Table of contents\"](#Table-of-contents)\n",
    "1. https://matplotlib.org/stable/tutorials/advanced/path_tutorial.html\n",
    "2. https://pandas.pydata.org/pandas-docs/stable/reference/api/pandas.to_datetime.html\n",
    "4. https://ocean.nowpap3.go.jp/?page_id=862\n",
    "5. https://github.com/npec/5th-NOWPAP-Training-Course-on-Remote-Sensing-Data-Analysis"
   ]
  }
 ],
 "metadata": {
  "celltoolbar": "Slideshow",
  "kernelspec": {
   "display_name": "Python 3",
   "language": "python",
   "name": "python3"
  },
  "language_info": {
   "codemirror_mode": {
    "name": "ipython",
    "version": 3
   },
   "file_extension": ".py",
   "mimetype": "text/x-python",
   "name": "python",
   "nbconvert_exporter": "python",
   "pygments_lexer": "ipython3",
   "version": "3.9.4"
  }
 },
 "nbformat": 4,
 "nbformat_minor": 5
}
