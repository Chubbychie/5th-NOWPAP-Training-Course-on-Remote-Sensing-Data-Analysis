{
 "cells": [
  {
   "cell_type": "markdown",
   "id": "5e8631b7",
   "metadata": {
    "slideshow": {
     "slide_type": "slide"
    }
   },
   "source": [
    "\n",
    "<img src=\"../images/5thNRST_logo.png\" alt=\"NOWPAP\" width=\"900\" height=\"700\">\n",
    "\n",
    "## NOWPAP REMOTE SENSING TRAINING COURSE   \n",
    "#### Webinar 2: Monitoring and Assessment of Water Quality by Ocean Color Remote Sensing\n",
    "<span style=\"color:brown; font-size:1.1em;font-style:italic\"> Time series analysis: Extract point/region of interest from a series of images</span>\n",
    "\n",
    "<hr style=\"border:2px solid rgb(30,70,125)\"> </hr>\n",
    "\n",
    "<span style=\"font-family:Helvieta; font-size:2em;\">Eligio Maure (maure@npec.or.jp)</span>"
   ]
  },
  {
   "cell_type": "markdown",
   "id": "6213e392",
   "metadata": {
    "slideshow": {
     "slide_type": "subslide"
    }
   },
   "source": [
    "***\n",
    "**Note 1**: Execute each cell through the <button class=\"btn btn-default btn-xs\"><i class=\"icon-play fa fa-play\"></i></button> button from the top MENU (or keyboard shortcut `Shift` + `Enter`).<br>\n",
    "<br>\n",
    "**Note 2**: If, for any reason, the kernel is not working anymore, in the top MENU, click on the <button class=\"btn btn-default btn-xs\"><i class=\"fa fa-repeat icon-repeat\"></i></button> button. Then, in the top MENU, click on \"Cell\" and select \"Run All Above Selected Cell\".<br>\n",
    "***"
   ]
  },
  {
   "cell_type": "markdown",
   "id": "357bedc8",
   "metadata": {
    "slideshow": {
     "slide_type": "slide"
    }
   },
   "source": [
    "# Table of contents\n",
    "- [1. Purpose](#1.-Purpose)\n",
    "- [2. Library import](#2.-Library-import)\n",
    "- [3. Define parameters](#3.-Define-parameters)\n",
    "- [4. Point extract](#4.-Point-extract)\n",
    "- [5. Region extract](#5.-Region-extract)\n",
    "- [6. Resources](#6.-Resources)\n",
    "***"
   ]
  },
  {
   "cell_type": "markdown",
   "id": "855dd9f5",
   "metadata": {
    "slideshow": {
     "slide_type": "slide"
    }
   },
   "source": [
    "# 1. Purpose\n",
    "[Return to the \"Table of contents\"](#Table-of-contents)\n",
    "\n",
    "The objective of this exercise is to learn how to extract the mean of a point or region from a series of satellite images.  \n",
    "The images used are obtained from the [Marine Environmental Watch](https://ocean.nowpap3.go.jp/?page_id=862) of Northwest Pacific Action Plan (NOWPAP).\n",
    "\n",
    "***"
   ]
  },
  {
   "cell_type": "markdown",
   "id": "faa21d18",
   "metadata": {
    "slideshow": {
     "slide_type": "slide"
    }
   },
   "source": [
    "# 2. Library import\n",
    "[Return to the \"Table of contents\"](#Table-of-contents)"
   ]
  },
  {
   "cell_type": "code",
   "execution_count": 1,
   "id": "89f10c9d",
   "metadata": {},
   "outputs": [],
   "source": [
    "# Data manipulation\n",
    "import pandas as pd\n",
    "import numpy as np\n",
    "\n",
    "# System\n",
    "import sys\n",
    "from pathlib import Path\n",
    "\n",
    "# Visualization\n",
    "import matplotlib.pyplot as plt\n",
    "\n",
    "%matplotlib inline"
   ]
  },
  {
   "cell_type": "code",
   "execution_count": 2,
   "id": "9dcafdf4",
   "metadata": {},
   "outputs": [],
   "source": [
    "sys.path.append(str(Path('.').absolute().parent)) \n",
    "import sutils as util\n",
    "util.mpl_custom(mpl=plt)"
   ]
  },
  {
   "cell_type": "markdown",
   "id": "1f2625ed",
   "metadata": {
    "slideshow": {
     "slide_type": "slide"
    }
   },
   "source": [
    "# 3. Define parameters\n",
    "[Return to the \"Table of contents\"](#Table-of-contents)"
   ]
  },
  {
   "cell_type": "code",
   "execution_count": 7,
   "id": "4c9ecb1d",
   "metadata": {},
   "outputs": [],
   "source": [
    "INTPUT_DIR = Path('.').absolute().joinpath(r'data\\YOC')\n",
    "INPUT_FILE = INTPUT_DIR.joinpath('annual_max_1998_2020.csv')"
   ]
  },
  {
   "cell_type": "markdown",
   "id": "5464191d",
   "metadata": {
    "slideshow": {
     "slide_type": "slide"
    }
   },
   "source": [
    "# 4. Trend detection\n",
    "[Return to the \"Table of contents\"](#Table-of-contents)\n",
    "- Start with a simple linear trend model"
   ]
  },
  {
   "cell_type": "code",
   "execution_count": 10,
   "id": "014ea085",
   "metadata": {},
   "outputs": [
    {
     "data": {
      "text/html": [
       "<div>\n",
       "<style scoped>\n",
       "    .dataframe tbody tr th:only-of-type {\n",
       "        vertical-align: middle;\n",
       "    }\n",
       "\n",
       "    .dataframe tbody tr th {\n",
       "        vertical-align: top;\n",
       "    }\n",
       "\n",
       "    .dataframe thead th {\n",
       "        text-align: right;\n",
       "    }\n",
       "</style>\n",
       "<table border=\"1\" class=\"dataframe\">\n",
       "  <thead>\n",
       "    <tr style=\"text-align: right;\">\n",
       "      <th></th>\n",
       "      <th>filename</th>\n",
       "      <th>time_start</th>\n",
       "      <th>time_end</th>\n",
       "      <th>Chla [mg m$^{-3}$]</th>\n",
       "      <th>Day$_{Max}$</th>\n",
       "    </tr>\n",
       "  </thead>\n",
       "  <tbody>\n",
       "    <tr>\n",
       "      <th>0</th>\n",
       "      <td>Y19982020_CHL_NW_month_Max.nc</td>\n",
       "      <td>1998-01-15T00:00:00Z</td>\n",
       "      <td>1998-12-16T00:00:00Z</td>\n",
       "      <td>6.165950</td>\n",
       "      <td>1998197</td>\n",
       "    </tr>\n",
       "    <tr>\n",
       "      <th>1</th>\n",
       "      <td>Y19982020_CHL_NW_month_Max.nc</td>\n",
       "      <td>1999-01-15T00:00:00Z</td>\n",
       "      <td>1999-12-16T00:00:00Z</td>\n",
       "      <td>6.165950</td>\n",
       "      <td>1999289</td>\n",
       "    </tr>\n",
       "    <tr>\n",
       "      <th>2</th>\n",
       "      <td>Y19982020_CHL_NW_month_Max.nc</td>\n",
       "      <td>2000-01-15T00:00:00Z</td>\n",
       "      <td>2000-12-16T00:00:00Z</td>\n",
       "      <td>3.672823</td>\n",
       "      <td>2000290</td>\n",
       "    </tr>\n",
       "    <tr>\n",
       "      <th>3</th>\n",
       "      <td>Y19982020_CHL_NW_month_Max.nc</td>\n",
       "      <td>2001-01-15T00:00:00Z</td>\n",
       "      <td>2001-12-16T00:00:00Z</td>\n",
       "      <td>4.677351</td>\n",
       "      <td>2001258</td>\n",
       "    </tr>\n",
       "    <tr>\n",
       "      <th>4</th>\n",
       "      <td>Y19982020_CHL_NW_month_Max.nc</td>\n",
       "      <td>2002-01-15T00:00:00Z</td>\n",
       "      <td>2002-12-16T00:00:00Z</td>\n",
       "      <td>5.559043</td>\n",
       "      <td>2002197</td>\n",
       "    </tr>\n",
       "  </tbody>\n",
       "</table>\n",
       "</div>"
      ],
      "text/plain": [
       "                        filename            time_start              time_end  \\\n",
       "0  Y19982020_CHL_NW_month_Max.nc  1998-01-15T00:00:00Z  1998-12-16T00:00:00Z   \n",
       "1  Y19982020_CHL_NW_month_Max.nc  1999-01-15T00:00:00Z  1999-12-16T00:00:00Z   \n",
       "2  Y19982020_CHL_NW_month_Max.nc  2000-01-15T00:00:00Z  2000-12-16T00:00:00Z   \n",
       "3  Y19982020_CHL_NW_month_Max.nc  2001-01-15T00:00:00Z  2001-12-16T00:00:00Z   \n",
       "4  Y19982020_CHL_NW_month_Max.nc  2002-01-15T00:00:00Z  2002-12-16T00:00:00Z   \n",
       "\n",
       "   Chla [mg m$^{-3}$]  Day$_{Max}$  \n",
       "0            6.165950      1998197  \n",
       "1            6.165950      1999289  \n",
       "2            3.672823      2000290  \n",
       "3            4.677351      2001258  \n",
       "4            5.559043      2002197  "
      ]
     },
     "execution_count": 10,
     "metadata": {},
     "output_type": "execute_result"
    }
   ],
   "source": [
    "# Read data\n",
    "df = pd.read_csv(INPUT_FILE)\n",
    "df.head()"
   ]
  },
  {
   "cell_type": "code",
   "execution_count": 16,
   "id": "455fb70f",
   "metadata": {},
   "outputs": [
    {
     "data": {
      "text/plain": [
       "<AxesSubplot:xlabel='Day$_{Max}$'>"
      ]
     },
     "execution_count": 16,
     "metadata": {},
     "output_type": "execute_result"
    },
    {
     "data": {
      "image/png": "[encoded data removed]",
      "text/plain": [
       "<Figure size 432x288 with 1 Axes>"
      ]
     },
     "metadata": {
      "needs_background": "light"
     },
     "output_type": "display_data"
    }
   ],
   "source": [
    "# Display the annual max time series\n",
    "df.plot(y='Chla [mg m$^{-3}$]', x='Day$_{Max}$', marker='o')"
   ]
  },
  {
   "cell_type": "markdown",
   "id": "419c5ca5",
   "metadata": {
    "slideshow": {
     "slide_type": "slide"
    }
   },
   "source": [
    "- Get the trend and display the result"
   ]
  },
  {
   "cell_type": "code",
   "execution_count": 20,
   "id": "7d6810e0",
   "metadata": {},
   "outputs": [
    {
     "data": {
      "text/plain": [
       "[<matplotlib.lines.Line2D at 0x26c0a21d4c0>]"
      ]
     },
     "execution_count": 20,
     "metadata": {},
     "output_type": "execute_result"
    },
    {
     "data": {
      "image/png": "[encoded data removed]",
      "text/plain": [
       "<Figure size 432x288 with 1 Axes>"
      ]
     },
     "metadata": {
      "needs_background": "light"
     },
     "output_type": "display_data"
    }
   ],
   "source": [
    "f = np.poly1d(np.polyfit(df['Day$_{Max}$'], df['Chla [mg m$^{-3}$]'], 1))\n",
    "x = np.sort(df['Day$_{Max}$'])\n",
    "m, b = f.coeffs\n",
    "yp = m * x + b\n",
    "\n",
    "fig, ax = plt.subplots()\n",
    "df.plot(y='Chla [mg m$^{-3}$]', x='Day$_{Max}$', marker='o', ax=ax)\n",
    "ax.plot(x, yp)"
   ]
  },
  {
   "cell_type": "code",
   "execution_count": null,
   "id": "6c152702",
   "metadata": {
    "slideshow": {
     "slide_type": "-"
    }
   },
   "outputs": [],
   "source": []
  },
  {
   "cell_type": "markdown",
   "id": "6b623497",
   "metadata": {
    "slideshow": {
     "slide_type": "slide"
    }
   },
   "source": [
    "[Return to the \"Table of contents\"](#Table-of-contents)\n",
    "- Get trend using Sen's slope method"
   ]
  },
  {
   "cell_type": "code",
   "execution_count": null,
   "id": "3dba5eae",
   "metadata": {},
   "outputs": [],
   "source": []
  },
  {
   "cell_type": "markdown",
   "id": "99cfb38a",
   "metadata": {
    "slideshow": {
     "slide_type": "slide"
    }
   },
   "source": [
    "<div class=\"alert alert-block alert-success\"/div>\n",
    "    <b>Done!</b><br>\n",
    "  \n",
    "--- \n",
    "\n",
    "#### And thank you for your attention! :)\n",
    "    We hope you enjoyed the training provided by NOWPAP CEARAC."
   ]
  },
  {
   "cell_type": "markdown",
   "id": "a0588868",
   "metadata": {
    "slideshow": {
     "slide_type": "slide"
    }
   },
   "source": [
    "# 5. Resources\n",
    "[Go back to the \"Table of contents\"](#Table-of-contents)\n",
    "1. https://matplotlib.org/stable/tutorials/advanced/path_tutorial.html\n",
    "2. https://pandas.pydata.org/pandas-docs/stable/reference/api/pandas.to_datetime.html\n",
    "4. https://ocean.nowpap3.go.jp/?page_id=862\n",
    "5. https://github.com/npec/5th-NOWPAP-Training-Course-on-Remote-Sensing-Data-Analysis"
   ]
  }
 ],
 "metadata": {
  "celltoolbar": "Slideshow",
  "kernelspec": {
   "display_name": "Python 3",
   "language": "python",
   "name": "python3"
  },
  "language_info": {
   "codemirror_mode": {
    "name": "ipython",
    "version": 3
   },
   "file_extension": ".py",
   "mimetype": "text/x-python",
   "name": "python",
   "nbconvert_exporter": "python",
   "pygments_lexer": "ipython3",
   "version": "3.9.4"
  }
 },
 "nbformat": 4,
 "nbformat_minor": 5
}
