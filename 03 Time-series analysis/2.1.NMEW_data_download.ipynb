{
 "cells": [
  {
   "cell_type": "markdown",
   "metadata": {
    "slideshow": {
     "slide_type": "slide"
    }
   },
   "source": [
    "<img src=\"../02 Working with swath imagery/images/5thRST_logo.png\" alt=\"NOWPAP\" width=\"900\" height=\"700\">\n",
    "\n",
    "### NOWPAP REMOTE SENSING TRAINING COURSE  \n",
    "\n",
    "<hr style=\"border:2px solid rgb(30,70,125)\"> </hr>\n",
    "\n",
    "<span style=\"font-family:Helvieta; font-size:2em;\">Eligio Maure (maure@npec.or.jp)</span>"
   ]
  },
  {
   "cell_type": "markdown",
   "metadata": {
    "slideshow": {
     "slide_type": "slide"
    }
   },
   "source": [
    "# Import modules"
   ]
  },
  {
   "cell_type": "code",
   "execution_count": 1,
   "metadata": {
    "slideshow": {
     "slide_type": "fragment"
    }
   },
   "outputs": [],
   "source": [
    "import os\n",
    "import requests\n",
    "import time \n",
    "\n",
    "from datetime import datetime\n",
    "from tqdm import tqdm"
   ]
  },
  {
   "cell_type": "code",
   "execution_count": null,
   "metadata": {
    "slideshow": {
     "slide_type": "fragment"
    }
   },
   "outputs": [],
   "source": [
    "sys.path.append(Path('sutils').absolute()) \n",
    "import sutils as util"
   ]
  },
  {
   "cell_type": "markdown",
   "metadata": {
    "slideshow": {
     "slide_type": "slide"
    }
   },
   "source": [
    "# Set download parameters"
   ]
  },
  {
   "cell_type": "code",
   "execution_count": 2,
   "metadata": {
    "slideshow": {
     "slide_type": "fragment"
    }
   },
   "outputs": [],
   "source": [
    "# =================================================================\n",
    "SBA = 'TB'     # Other subareas (TB-Toyama Bay, AS-Ariake Sea, etc.)\n",
    "VAR = 'CHL'    # variable name ('CHL', 'SST', 'CDOM', 'TSM')\n",
    "COMP = 'day'   # composite period ('day', 'month', 'year')\n",
    "\n",
    "SY = 2021      # start year\n",
    "SM = 4         # start month\n",
    "SD = 1        # start day of month (only needed if `comp` == 'day')\n",
    "\n",
    "EY = 2021      # end year \n",
    "EM = 4        # end month\n",
    "ED = 31        # end day (only needed if `comp` == 'day')\n",
    "\n",
    "EXT = ('nc',)  # file extension to download, ('nc',), ('png',) or ('nc','png') \n",
    "\n",
    "# Sensor(s) to download, sens = ('SeaWiFS', 'MODIS-Aqua', 'MERIS', 'VIIRS-SNPP', 'SGLI', 'YOC') or sens = ('SeaWiFS',)\n",
    "SEN = ('SGLI',)\n",
    "# sens = 'SeaWiFS', 'MODIS-Aqua', 'MERIS', 'VIIRS-SNPP', 'YOC'\n",
    "OUTPUT_DIR = f'data/{{sen}}/{COMP}'"
   ]
  },
  {
   "cell_type": "markdown",
   "metadata": {
    "slideshow": {
     "slide_type": "slide"
    }
   },
   "source": [
    "# Retrieve the data from NMEW"
   ]
  },
  {
   "cell_type": "code",
   "execution_count": 5,
   "metadata": {
    "scrolled": false,
    "slideshow": {
     "slide_type": "fragment"
    }
   },
   "outputs": [
    {
     "name": "stderr",
     "output_type": "stream",
     "text": [
      "\r",
      "  0%|                                                                      | 0/731 [00:00<?, ?it/s]"
     ]
    },
    {
     "name": "stdout",
     "output_type": "stream",
     "text": [
      "\n",
      "VIIRS-SNPP\n",
      "C:\\Users\\Eligio\\Documents\\NPEC\\danalysis\\satvalidation\\Data\\VIIRS-SNPP\\Day\n",
      "\n",
      "2012\n",
      "==============================\n"
     ]
    },
    {
     "name": "stderr",
     "output_type": "stream",
     "text": [
      "Downloading: V20121231_CHL_NW_day.nc:  50%|███████████           | 366/731 [28:10<28:06,  4.62s/it]\n",
      "  0%|                                                                      | 0/731 [00:00<?, ?it/s]"
     ]
    },
    {
     "name": "stdout",
     "output_type": "stream",
     "text": [
      "\n",
      "2013\n",
      "==============================\n"
     ]
    },
    {
     "name": "stderr",
     "output_type": "stream",
     "text": [
      "Downloading: V20131231_CHL_NW_day.nc:  50%|██████████▉           | 365/731 [28:45<28:50,  4.73s/it]"
     ]
    },
    {
     "name": "stdout",
     "output_type": "stream",
     "text": [
      "\n",
      "done!\n"
     ]
    },
    {
     "name": "stderr",
     "output_type": "stream",
     "text": [
      "\n"
     ]
    }
   ],
   "source": [
    "# Now retrieve the data from NMEW\n",
    "for sen in SEN:\n",
    "    print(f'\\n{sen}')\n",
    "\n",
    "    opath = Path(output_dir.format(sen=sen)).absolute()\n",
    "    if opath.is_dir() is False:\n",
    "        opath.mkdir()\n",
    "        print(opath.name)\n",
    "    \n",
    "    total = 0\n",
    "    if COMP == 'year':\n",
    "        total = len(range(SY, EY + 1))\n",
    "    else:\n",
    "        if COMP == 'month':\n",
    "            total = len([datetime(y, m, 1) \n",
    "                         for y in range(SY, EY + 1) \n",
    "                         for m in range(1, 13) \n",
    "                         if (y <= EY) and (m <= EM)])\n",
    "        else:\n",
    "            start = datetime(SY, SM, SD).toordinal()\n",
    "            end = datetime(EY, EM, ED).toordinal() + 1\n",
    "            total = len(range(start, end))        \n",
    "        \n",
    "    util.download(var=VAR, sba=SBA, total=total, sen=SEN, \n",
    "                  syear=SY, eyear=EY, comp=COMP)\n",
    "\n",
    "print('\\ndone!')"
   ]
  },
  {
   "cell_type": "code",
   "execution_count": null,
   "metadata": {},
   "outputs": [],
   "source": []
  }
 ],
 "metadata": {
  "celltoolbar": "Slideshow",
  "kernelspec": {
   "display_name": "Python 3",
   "language": "python",
   "name": "python3"
  },
  "language_info": {
   "codemirror_mode": {
    "name": "ipython",
    "version": 3
   },
   "file_extension": ".py",
   "mimetype": "text/x-python",
   "name": "python",
   "nbconvert_exporter": "python",
   "pygments_lexer": "ipython3",
   "version": "3.9.4"
  }
 },
 "nbformat": 4,
 "nbformat_minor": 4
}
