{
 "cells": [
  {
   "cell_type": "markdown",
   "id": "5e8631b7",
   "metadata": {
    "slideshow": {
     "slide_type": "slide"
    }
   },
   "source": [
    "\n",
    "<img src=\"../images/5thNRST_logo.png\" alt=\"NOWPAP\" width=\"900\" height=\"700\">\n",
    "\n",
    "## NOWPAP REMOTE SENSING TRAINING COURSE   \n",
    "#### Webinar 2: Monitoring and Assessment of Water Quality by Ocean Color Remote Sensing\n",
    "\n",
    "<hr style=\"border:2px solid rgb(30,70,125)\"> </hr>\n",
    "\n",
    "<span style=\"font-family:Helvieta; font-size:2em;\">Eligio Maure (maure@npec.or.jp)</span>"
   ]
  },
  {
   "cell_type": "markdown",
   "id": "6213e392",
   "metadata": {
    "slideshow": {
     "slide_type": "-"
    }
   },
   "source": [
    "***\n",
    "**Note 1**: Execute each cell through the <button class=\"btn btn-default btn-xs\"><i class=\"icon-play fa fa-play\"></i></button> button from the top MENU (or keyboard shortcut `Shift` + `Enter`).<br>\n",
    "<br>\n",
    "**Note 2**: If, for any reason, the kernel is not working anymore, in the top MENU, click on the <button class=\"btn btn-default btn-xs\"><i class=\"fa fa-repeat icon-repeat\"></i></button> button. Then, in the top MENU, click on \"Cell\" and select \"Run All Above Selected Cell\".<br>\n",
    "***"
   ]
  },
  {
   "cell_type": "markdown",
   "id": "357bedc8",
   "metadata": {
    "slideshow": {
     "slide_type": "slide"
    }
   },
   "source": [
    "# Table of contents\n",
    "- [1. Purpose](#1.-Purpose)\n",
    "- [2. Library import](#2.-Library-import)\n",
    "- [3. Define download parameters](#3.-Define-download-parameters)\n",
    "- [4. Retrieve data](#4.-Retrieve-data)\n",
    "***"
   ]
  },
  {
   "cell_type": "markdown",
   "id": "855dd9f5",
   "metadata": {
    "slideshow": {
     "slide_type": "slide"
    }
   },
   "source": [
    "# 1. Purpose\n",
    "[Return to the \"Table of contents\"](#Table-of-contents)\n",
    "\n",
    "The objective of this exercise is to download satellite data products from the [Marine Environmental Watch](https://ocean.nowpap3.go.jp/?page_id=862) of Northwest Pacific Action Plan (NOWPAP).\n",
    "\n",
    "You will learn how to retrieve PNG and NetCDF files and custom subareas\n",
    "***"
   ]
  },
  {
   "cell_type": "markdown",
   "id": "faa21d18",
   "metadata": {
    "slideshow": {
     "slide_type": "slide"
    }
   },
   "source": [
    "# 2. Library import\n",
    "[Return to the \"Table of contents\"](#Table-of-contents)"
   ]
  },
  {
   "cell_type": "code",
   "execution_count": 1,
   "id": "89f10c9d",
   "metadata": {},
   "outputs": [],
   "source": [
    "# System\n",
    "import os\n",
    "import sys\n",
    "from pathlib import Path"
   ]
  },
  {
   "cell_type": "code",
   "execution_count": 2,
   "id": "9dcafdf4",
   "metadata": {},
   "outputs": [],
   "source": [
    "sys.path.append(str(Path('.').absolute().parent)) \n",
    "import sutils as util"
   ]
  },
  {
   "cell_type": "markdown",
   "id": "1f2625ed",
   "metadata": {
    "slideshow": {
     "slide_type": "slide"
    }
   },
   "source": [
    "# 3. Define download parameters\n",
    "[Return to the \"Table of contents\"](#Table-of-contents)"
   ]
  },
  {
   "cell_type": "code",
   "execution_count": 3,
   "id": "4c9ecb1d",
   "metadata": {},
   "outputs": [],
   "source": [
    "# =================================================================\n",
    "SBA = 'TB'     # Other subareas (TB-Toyama Bay, AS-Ariake Sea, etc.)\n",
    "VAR = 'CHL'    # variable name ('CHL', 'SST', 'CDOM', 'TSM')\n",
    "COMP = 'day'   # composite period ('day', 'month', 'year')\n",
    "\n",
    "SY = 2021      # start year\n",
    "SM = 4         # start month\n",
    "SD = 1        # start day of month (only needed if `comp` == 'day')\n",
    "\n",
    "EY = 2021      # end year \n",
    "EM = 4        # end month\n",
    "ED = 31        # end day (only needed if `comp` == 'day')\n",
    "\n",
    "EXT = ('nc',)  # file extension to download, ('nc',), ('png',) or ('nc','png') \n",
    "\n",
    "# Sensor(s) to download, sens = ('SeaWiFS', 'MODIS-Aqua', 'MERIS', 'VIIRS-SNPP', 'SGLI', 'YOC') or sens = ('SeaWiFS',)\n",
    "SEN = ('SGLI',)\n",
    "# sens = 'SeaWiFS', 'MODIS-Aqua', 'MERIS', 'VIIRS-SNPP', 'YOC'\n",
    "OUTPUT_DIR = f'data/{{sen}}/{COMP}'"
   ]
  },
  {
   "cell_type": "markdown",
   "id": "6b623497",
   "metadata": {
    "slideshow": {
     "slide_type": "slide"
    }
   },
   "source": [
    "# 4. Retrieve data\n",
    "- retrieving data from NMEW"
   ]
  },
  {
   "cell_type": "code",
   "execution_count": 4,
   "id": "b666ac1e",
   "metadata": {},
   "outputs": [
    {
     "name": "stderr",
     "output_type": "stream",
     "text": [
      "\r",
      "  0%|                                                                                                        | 0/30 [00:00<?, ?it/s]"
     ]
    },
    {
     "name": "stdout",
     "output_type": "stream",
     "text": [
      "\n",
      "SGLI\n"
     ]
    },
    {
     "name": "stderr",
     "output_type": "stream",
     "text": [
      "Downloading: GS20210430_CHL_TB_day.nc: 100%|████████████████████████████████████████████████████████| 30/30 [01:12<00:00,  2.42s/it]"
     ]
    },
    {
     "name": "stdout",
     "output_type": "stream",
     "text": [
      "\n",
      "done!\n"
     ]
    },
    {
     "name": "stderr",
     "output_type": "stream",
     "text": [
      "\n"
     ]
    }
   ],
   "source": [
    "for sen in SEN:\n",
    "    print(f'\\n{sen}')\n",
    "\n",
    "    opath = Path(OUTPUT_DIR.format(sen=sen)).absolute()\n",
    "    if opath.is_dir() is False:\n",
    "        opath.mkdir(parents=True)\n",
    "        print(opath)\n",
    "    util.download(variable=VAR, subarea=SBA, sensor=sen\n",
    "                  , start_year=SY, end_year=EY\n",
    "                  , composite_period=COMP, file_type=EXT\n",
    "                  , start_month=SM, end_month=EM\n",
    "                  , start_day=SD, end_day=ED, output_dir=opath)\n",
    "\n",
    "print(f'\\ndone!\\nOutputDir: {str(opath)}')"
   ]
  }
 ],
 "metadata": {
  "celltoolbar": "Slideshow",
  "kernelspec": {
   "display_name": "Python 3",
   "language": "python",
   "name": "python3"
  },
  "language_info": {
   "codemirror_mode": {
    "name": "ipython",
    "version": 3
   },
   "file_extension": ".py",
   "mimetype": "text/x-python",
   "name": "python",
   "nbconvert_exporter": "python",
   "pygments_lexer": "ipython3",
   "version": "3.9.4"
  }
 },
 "nbformat": 4,
 "nbformat_minor": 5
}
